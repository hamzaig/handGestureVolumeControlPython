{
 "cells": [
  {
   "cell_type": "code",
   "execution_count": 1,
   "id": "226a1962",
   "metadata": {},
   "outputs": [],
   "source": [
    "import cv2\n",
    "import numpy as np\n",
    "import mediapipe as mp\n",
    "import tensorflow as tf\n",
    "from tensorflow.keras.models import load_model"
   ]
  },
  {
   "cell_type": "code",
   "execution_count": 2,
   "id": "857864ed",
   "metadata": {},
   "outputs": [],
   "source": [
    "# import os\n",
    "# os.chdir(\"/content/drive/My Drive/path/to/your/model\")\n",
    "# initialize mediapipe\n",
    "mpHands = mp.solutions.hands\n",
    "hands = mpHands.Hands(max_num_hands=1, min_detection_confidence=0.7)\n",
    "mpDraw = mp.solutions.drawing_utils"
   ]
  },
  {
   "cell_type": "code",
   "execution_count": 3,
   "id": "80a776a4",
   "metadata": {},
   "outputs": [
    {
     "name": "stdout",
     "output_type": "stream",
     "text": [
      "['okay', 'peace', 'thumbs up', 'thumbs down', 'call me', 'stop', 'rock', 'live long', 'fist', 'smile']\n"
     ]
    }
   ],
   "source": [
    "# Load the gesture recognizer model\n",
    "model = load_model('mp_hand_gesture')\n",
    "\n",
    "# Load class names\n",
    "f = open('gesture.names', 'r')\n",
    "classNames = f.read().split('\\n')\n",
    "f.close()\n",
    "print(classNames)"
   ]
  },
  {
   "cell_type": "code",
   "execution_count": 13,
   "id": "02f74cdd",
   "metadata": {},
   "outputs": [],
   "source": [
    "# Initialize the webcam for Hand Gesture Recognition Python project\n",
    "cap = cv2.VideoCapture(0)\n",
    "while True:\n",
    "    # Read each frame from the webcam\n",
    "    _, frame = cap.read()\n",
    "\n",
    "    x, y, c = frame.shape\n",
    "\n",
    "    # Flip the frame vertically\n",
    "    frame = cv2.flip(frame, 1)\n",
    "  # Show the final output\n",
    "    cv2.imshow(\"Output\", frame)\n",
    "    if cv2.waitKey(1) == ord('q'):\n",
    "        break\n",
    "# release the webcam and destroy all active windows\n",
    "cap.release()\n",
    "cv2.destroyAllWindows()"
   ]
  },
  {
   "cell_type": "code",
   "execution_count": 14,
   "id": "0c9a82eb",
   "metadata": {},
   "outputs": [],
   "source": [
    "framergb = cv2.cvtColor(frame, cv2.COLOR_BGR2RGB)\n",
    "  # Get hand landmark prediction\n",
    "result = hands.process(framergb)\n",
    "className = ''\n",
    "# post process the result\n",
    "if result.multi_hand_landmarks:\n",
    "    landmarks = []\n",
    "    for handslms in result.multi_hand_landmarks:\n",
    "        for lm in handslms.landmark:\n",
    "            # print(id, lm)\n",
    "            lmx = int(lm.x * x)\n",
    "            lmy = int(lm.y * y)\n",
    "            landmarks.append([lmx, lmy])\n",
    "            # Drawing landmarks on frames\n",
    "            mpDraw.draw_landmarks(frame, handslms,mpHands.HAND_CONNECTIONS)"
   ]
  },
  {
   "cell_type": "code",
   "execution_count": 19,
   "id": "359a1602",
   "metadata": {},
   "outputs": [
    {
     "name": "stdout",
     "output_type": "stream",
     "text": [
      "[[1.2002059e-11 6.7352325e-11 1.2504770e-35 1.8248842e-11 2.3648476e-34\n",
      "  9.7400816e-06 1.6768354e-15 9.9999022e-01 0.0000000e+00 1.6399353e-16]]\n"
     ]
    },
    {
     "data": {
      "text/plain": [
       "array([[[122, 157, 186],\n",
       "        [132, 168, 196],\n",
       "        [133, 170, 198],\n",
       "        ...,\n",
       "        [ 81,  90,  77],\n",
       "        [ 82,  89,  77],\n",
       "        [ 83,  89,  77]],\n",
       "\n",
       "       [[124, 157, 186],\n",
       "        [129, 162, 191],\n",
       "        [131, 167, 195],\n",
       "        ...,\n",
       "        [ 81,  90,  77],\n",
       "        [ 82,  89,  77],\n",
       "        [ 83,  89,  77]],\n",
       "\n",
       "       [[123, 159, 185],\n",
       "        [129, 165, 191],\n",
       "        [129, 166, 192],\n",
       "        ...,\n",
       "        [ 79,  87,  75],\n",
       "        [ 79,  87,  75],\n",
       "        [ 78,  86,  74]],\n",
       "\n",
       "       ...,\n",
       "\n",
       "       [[177, 163, 139],\n",
       "        [175, 161, 138],\n",
       "        [174, 160, 136],\n",
       "        ...,\n",
       "        [ 81,  93,  92],\n",
       "        [ 81,  93,  92],\n",
       "        [ 82,  94,  93]],\n",
       "\n",
       "       [[175, 161, 138],\n",
       "        [174, 160, 137],\n",
       "        [174, 160, 137],\n",
       "        ...,\n",
       "        [ 82,  92,  89],\n",
       "        [ 80,  93,  89],\n",
       "        [ 81,  94,  90]],\n",
       "\n",
       "       [[173, 159, 136],\n",
       "        [174, 160, 137],\n",
       "        [175, 162, 137],\n",
       "        ...,\n",
       "        [ 79,  91,  85],\n",
       "        [ 80,  93,  88],\n",
       "        [ 80,  93,  88]]], dtype=uint8)"
      ]
     },
     "execution_count": 19,
     "metadata": {},
     "output_type": "execute_result"
    }
   ],
   "source": [
    "# Predict gesture in Hand Gesture Recognition project\n",
    "prediction = model.predict([landmarks])\n",
    "print(prediction)\n",
    "classID = np.argmax(prediction)\n",
    "className = classNames[classID]\n",
    "# show the prediction on the frame\n",
    "cv2.putText(frame, className, (10, 50), cv2.FONT_HERSHEY_SIMPLEX,1, (0,0,255), 2, cv2.LINE_AA)"
   ]
  },
  {
   "cell_type": "code",
   "execution_count": null,
   "id": "4a201f6d",
   "metadata": {},
   "outputs": [],
   "source": []
  }
 ],
 "metadata": {
  "kernelspec": {
   "display_name": "Python 3",
   "language": "python",
   "name": "python3"
  },
  "language_info": {
   "codemirror_mode": {
    "name": "ipython",
    "version": 3
   },
   "file_extension": ".py",
   "mimetype": "text/x-python",
   "name": "python",
   "nbconvert_exporter": "python",
   "pygments_lexer": "ipython3",
   "version": "3.8.8"
  }
 },
 "nbformat": 4,
 "nbformat_minor": 5
}
